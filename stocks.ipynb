{
 "cells": [
  {
   "cell_type": "markdown",
   "metadata": {},
   "source": [
    "# Stock Trades by Members of the US House of Representatives\n",
    "\n",
    "* **See the main project notebook for instructions to be sure you satisfy the rubric!**\n",
    "* See Project 03 for information on the dataset.\n",
    "* A few example prediction questions to pursue are listed below. However, don't limit yourself to them!\n",
    "    - Can you predict the party affiliation of a representative from their stock trades?\n",
    "    - Can you predict the geographic region that the representative comes from using their stock trades? E.g., west coast, east coast, south, etc.\n",
    "    * Can you predict whether a particular trade is a BUY or SELL?\n",
    "\n",
    "Be careful to justify what information you would know at the \"time of prediction\" and train your model using only those features."
   ]
  },
  {
   "cell_type": "markdown",
   "metadata": {},
   "source": [
    "# Summary of Findings\n",
    "\n",
    "\n",
    "### Introduction\n",
    "\n",
    "#### Model\n",
    "\n",
    "##### Predict if a transaction has capitial gains over 200 USD\n",
    "\n",
    "In this project, we want to estimate if a transaction will have capital gains exceeding \\$200 using the provided dataset. We'll need to create a classification model to do this. There are many different classifying models, such as __Decision Tree__, __Random Forest__, __K Mean Clustering__, etc. A boolean column called `cap_gains_over_200_usd` in the transaction dataset will be True if a transaction contains capital gains over \\$200 USD. This would be the output label we would be using, and so this made our prediction to be a classifciation problem. We would take into account several columns in our transaction dataset for the input features. As both our baseline model and final model made advantage of several features.\n",
    "\n",
    "#### Evaluation\n",
    "\n",
    "For evaulation of our model, we have chosen to use the following metrics:\n",
    "\n",
    "- Accuracy score $$\\text{accuracy} = \\frac{\\text{# data points classified correctly}}{\\text{# data points}} = \\frac{TP + TN}{TP + FP + FN + TN}$$\n",
    "- Precision score $$\\text{precision} = \\frac{TP}{\\text{# predicted positive}} = \\frac{TP}{TP + FP}$$\n",
    "- Recall score $$\\text{recall} = \\frac{TP}{\\text{# actually positive}} = \\frac{TP}{TP + FN}$$\n",
    "\n",
    "### Baseline Model\n",
    "\n",
    "#### Description\n",
    "\n",
    "For the baseline model, we believe that the features of `disclosure_year`, `transaction_date`, `owner`, `type`, `amount` and `party` are related to the output of `cap_gain_over_200`.\n",
    "\n",
    "Total of 7 features are used in the baseline model, which are the following:\n",
    "\n",
    "- `disclosure_year`: Categorical ordinal\n",
    "- `transaction_date`: Categorical ordinal\n",
    "- `owner`: Categorical nominal\n",
    "- `type`: Categorical nominal\n",
    "- `amount`: Quantitative\n",
    "- `party`: Categorical nominal\n",
    "\n",
    "The following stages are used in the pipeline to pre-process the input features:\n",
    "\n",
    "1. One-hot encode `disclosure_year`, `owner` and `party` columns with `OneHotEncoder`.\n",
    "1. Extract the month of `transaction_date` and then using `Binarizer` to transform it into a boolean Series where $ \\text{month} \\le 6$  is `False`, otherwise is `True`.\n",
    "1. Transform the `amount` column into a quantittative feature by calculating the average of thresholds using `FunctionTransformer`.\n",
    "1. Use the `StdScalerByGroup` to calculate the standardized amount of every transaction by their coresponding party.\n",
    "\n",
    "#### Performance\n",
    "\n",
    "Then we process to performing `GridSearchCV` to find out the best parameters for `RandomForestClassifer`. Using the best parameters we have got, our model has the following performance metrics:\n",
    "\n",
    "- __Percision__: 20%\n",
    "- __Recall__: 0.346%\n",
    "- __Accuracy__: 93.79%\n",
    "\n",
    "##### Confusion matrix\n",
    "\n",
    "|               | Actually True | Actually False |\n",
    "| ------------- | ------------- | -------------- |\n",
    "| Predict True  | 4408          | 4              |\n",
    "| Predict False | 288           | 1              |\n",
    "\n",
    "### Final Model\n",
    "TODO\n",
    "\n",
    "### Fairness Evaluation\n",
    "TODO"
   ]
  },
  {
   "cell_type": "markdown",
   "metadata": {},
   "source": [
    "# Code"
   ]
  },
  {
   "cell_type": "code",
   "execution_count": 127,
   "metadata": {},
   "outputs": [],
   "source": [
    "import matplotlib.pyplot as plt\n",
    "import numpy as np\n",
    "import os\n",
    "import pandas as pd\n",
    "import seaborn as sns\n",
    "%matplotlib inline\n",
    "%config InlineBackend.figure_format = 'retina'  # Higher resolution figures"
   ]
  },
  {
   "cell_type": "markdown",
   "metadata": {},
   "source": [
    "### Baseline Model"
   ]
  },
  {
   "cell_type": "code",
   "execution_count": 128,
   "metadata": {},
   "outputs": [],
   "source": [
    "# TODO"
   ]
  },
  {
   "cell_type": "code",
   "execution_count": 129,
   "metadata": {},
   "outputs": [
    {
     "name": "stdout",
     "output_type": "stream",
     "text": [
      "<class 'pandas.core.frame.DataFrame'>\n",
      "RangeIndex: 15667 entries, 0 to 15666\n",
      "Data columns (total 15 columns):\n",
      " #   Column                  Non-Null Count  Dtype \n",
      "---  ------                  --------------  ----- \n",
      " 0   disclosure_year         15667 non-null  int64 \n",
      " 1   disclosure_date         15667 non-null  object\n",
      " 2   transaction_date        15667 non-null  object\n",
      " 3   owner                   8342 non-null   object\n",
      " 4   ticker                  14372 non-null  object\n",
      " 5   asset_description       15663 non-null  object\n",
      " 6   type                    15667 non-null  object\n",
      " 7   amount                  15667 non-null  object\n",
      " 8   representative          15667 non-null  object\n",
      " 9   district                15667 non-null  object\n",
      " 10  ptr_link                15667 non-null  object\n",
      " 11  cap_gains_over_200_usd  15667 non-null  bool  \n",
      " 12  first_name              15667 non-null  object\n",
      " 13  last_name               15667 non-null  object\n",
      " 14  party                   15667 non-null  object\n",
      "dtypes: bool(1), int64(1), object(13)\n",
      "memory usage: 1.7+ MB\n"
     ]
    }
   ],
   "source": [
    "transactions = pd.read_csv('data/combined_transactions.csv')\n",
    "transactions.info()"
   ]
  },
  {
   "cell_type": "code",
   "execution_count": 130,
   "metadata": {},
   "outputs": [
    {
     "name": "stdout",
     "output_type": "stream",
     "text": [
      "Requirement already satisfied: imblearn in /Users/irusu/Dev/python/dsc-80/.venv/lib/python3.11/site-packages (0.0)\n",
      "Requirement already satisfied: imbalanced-learn in /Users/irusu/Dev/python/dsc-80/.venv/lib/python3.11/site-packages (from imblearn) (0.9.1)\n",
      "Requirement already satisfied: numpy>=1.17.3 in /Users/irusu/Dev/python/dsc-80/.venv/lib/python3.11/site-packages (from imbalanced-learn->imblearn) (1.23.4)\n",
      "Requirement already satisfied: scipy>=1.3.2 in /Users/irusu/Dev/python/dsc-80/.venv/lib/python3.11/site-packages (from imbalanced-learn->imblearn) (1.9.3)\n",
      "Requirement already satisfied: scikit-learn>=1.1.0 in /Users/irusu/Dev/python/dsc-80/.venv/lib/python3.11/site-packages (from imbalanced-learn->imblearn) (1.1.3)\n",
      "Requirement already satisfied: joblib>=1.0.0 in /Users/irusu/Dev/python/dsc-80/.venv/lib/python3.11/site-packages (from imbalanced-learn->imblearn) (1.2.0)\n",
      "Requirement already satisfied: threadpoolctl>=2.0.0 in /Users/irusu/Dev/python/dsc-80/.venv/lib/python3.11/site-packages (from imbalanced-learn->imblearn) (3.1.0)\n",
      "\n",
      "\u001b[1m[\u001b[0m\u001b[34;49mnotice\u001b[0m\u001b[1;39;49m]\u001b[0m\u001b[39;49m A new release of pip available: \u001b[0m\u001b[31;49m22.3\u001b[0m\u001b[39;49m -> \u001b[0m\u001b[32;49m22.3.1\u001b[0m\n",
      "\u001b[1m[\u001b[0m\u001b[34;49mnotice\u001b[0m\u001b[1;39;49m]\u001b[0m\u001b[39;49m To update, run: \u001b[0m\u001b[32;49mpip install --upgrade pip\u001b[0m\n",
      "Note: you may need to restart the kernel to use updated packages.\n"
     ]
    }
   ],
   "source": [
    "from sklearn.ensemble import RandomForestClassifier\n",
    "from sklearn.preprocessing import Binarizer, FunctionTransformer, OneHotEncoder\n",
    "from sklearn.pipeline import Pipeline\n",
    "from sklearn.compose import ColumnTransformer\n",
    "from sklearn.model_selection import train_test_split, GridSearchCV\n",
    "from sklearn.base import BaseEstimator, TransformerMixin\n",
    "\n",
    "%pip install imblearn\n",
    "from imblearn.over_sampling import SMOTE"
   ]
  },
  {
   "cell_type": "code",
   "execution_count": 131,
   "metadata": {},
   "outputs": [
    {
     "data": {
      "text/plain": [
       "purchase        0.525819\n",
       "sale_full       0.314993\n",
       "sale_partial    0.150316\n",
       "exchange        0.008808\n",
       "sale            0.000064\n",
       "Name: type, dtype: float64"
      ]
     },
     "execution_count": 131,
     "metadata": {},
     "output_type": "execute_result"
    }
   ],
   "source": [
    "transactions['type'].value_counts(normalize=True)"
   ]
  },
  {
   "cell_type": "markdown",
   "metadata": {},
   "source": [
    "#### pre-processing functions"
   ]
  },
  {
   "cell_type": "code",
   "execution_count": 137,
   "metadata": {},
   "outputs": [],
   "source": [
    "def month_preproc(df):\n",
    "    df['transaction_month'] = df['transaction_date'].str.split('-', expand=True).iloc[:, 1].astype(int)\n",
    "    return Binarizer(threshold=6).fit_transform(df[['transaction_month']])\n",
    "\n",
    "def amount_preproc(df):\n",
    "    df['amount_quant'] = (df['amount']\n",
    "                          .str.replace(r'[+\\-$,]', '', regex=True)\n",
    "                          .str.replace(r'\\s+', ' ', regex=True)\n",
    "                          .str.strip()\n",
    "                          .str.split()\n",
    "                          .apply(lambda x: sum(map(int, x)) // len(x)))\n",
    "    return df[['amount_quant']]\n",
    "\n",
    "\n",
    "class StdScalerByGroup(BaseEstimator, TransformerMixin):\n",
    "\n",
    "    def __init__(self):\n",
    "        pass\n",
    "    \n",
    "    def preprocess_(self, df):\n",
    "        for col in df.columns[1:]:\n",
    "            df[col] = (df[col]\n",
    "                       .str.replace(r'[+\\-$,]', '', regex=True)\n",
    "                       .str.replace(r'\\s+', ' ', regex=True)\n",
    "                       .str.strip()\n",
    "                       .str.split()\n",
    "                       .apply(lambda x: sum(map(int, x)) // len(x)))\n",
    "        return df\n",
    "\n",
    "    def fit(self, X, y=None):\n",
    "        \"\"\"\n",
    "        :Example:\n",
    "        >>> cols = {'g': ['A', 'A', 'B', 'B'], 'c1': [1, 2, 2, 2], 'c2': [3, 1, 2, 0]}\n",
    "        >>> X = pd.DataFrame(cols)\n",
    "        >>> std = StdScalerByGroup().fit(X)\n",
    "        >>> std.grps_ is not None\n",
    "        True\n",
    "        \"\"\"\n",
    "        # X might not be a pandas DataFrame (e.g. a np.array)\n",
    "        df = self.preprocess_(pd.DataFrame(X))\n",
    "\n",
    "        # Compute and store the means/standard-deviations for each column (e.g. 'c1' and 'c2'),\n",
    "        # for each group (e.g. 'A', 'B', 'C').\n",
    "        # (Our solution uses a dictionary)\n",
    "        df_agg = df.groupby(df.columns[0]).agg(['mean', 'std'])\n",
    "        self.grps_ = {(g, c): df_agg.loc[g, c]\n",
    "                      for g in df_agg.index for c in df_agg.columns}\n",
    "\n",
    "        return self\n",
    "\n",
    "    def transform(self, X, y=None):\n",
    "        \"\"\"\n",
    "        :Example:\n",
    "        >>> cols = {'g': ['A', 'A', 'B', 'B'], 'c1': [1, 2, 3, 4], 'c2': [1, 2, 3, 4]}\n",
    "        >>> X = pd.DataFrame(cols)\n",
    "        >>> std = StdScalerByGroup().fit(X)\n",
    "        >>> out = std.transform(X)\n",
    "        >>> out.shape == (4, 2)\n",
    "        True\n",
    "        >>> np.isclose(out.abs(), 0.707107, atol=0.001).all().all()\n",
    "        True\n",
    "        \"\"\"\n",
    "\n",
    "        try:\n",
    "            getattr(self, \"grps_\")\n",
    "        except AttributeError:\n",
    "            raise RuntimeError(\n",
    "                \"You must fit the transformer before tranforming the data!\")\n",
    "\n",
    "        # Hint: Define a helper function here!\n",
    "        def helper2(df):\n",
    "            grp_col = df.columns[0]\n",
    "            grps = df[grp_col].unique()\n",
    "            df_grps = df.groupby(grp_col)\n",
    "\n",
    "            df_out = []\n",
    "            for grp in grps:\n",
    "                df_grp = df_grps.get_group(grp).iloc[:, 1:]\n",
    "                for col in df_grp.columns:\n",
    "                    df_grp[col] = (\n",
    "                        df_grp[col] - self.grps_[(grp, (col, 'mean'))]) / self.grps_[(grp, (col, 'std'))]\n",
    "                df_out.append(df_grp)\n",
    "            return pd.concat(df_out).fillna(0)\n",
    "\n",
    "        df = pd.DataFrame(X)\n",
    "\n",
    "        return helper2(df)"
   ]
  },
  {
   "cell_type": "markdown",
   "metadata": {},
   "source": [
    "#### Grid search"
   ]
  },
  {
   "cell_type": "code",
   "execution_count": 150,
   "metadata": {
    "scrolled": true
   },
   "outputs": [
    {
     "data": {
      "text/plain": [
       "((15667, 14), (15667,))"
      ]
     },
     "execution_count": 150,
     "metadata": {},
     "output_type": "execute_result"
    }
   ],
   "source": [
    "preproc = ColumnTransformer(transformers=[\n",
    "    ('one-hot', OneHotEncoder(), ['disclosure_year', 'owner', 'party']),\n",
    "    ('month', FunctionTransformer(month_preproc, validate=False), ['transaction_date']),\n",
    "    ('amount', FunctionTransformer(amount_preproc), ['amount']),\n",
    "    ('std-grp', StdScalerByGroup(), ['party', 'amount'])\n",
    "])\n",
    "\n",
    "feature_df = transactions.drop(columns=['cap_gains_over_200_usd'])\n",
    "label_df = transactions['cap_gains_over_200_usd']\n",
    "\n",
    "\n",
    "# print(f'new feature count: \\n{len(transformed_feature_df)}\\n')\n",
    "# print(f'old feature count: \\n{len(feature_df)}\\n')\n",
    "\n",
    "# print(f'new label count: \\n{transformed_label_df.value_counts()}\\n')\n",
    "# print(f'old label count: \\n{label_df.value_counts()}')\n",
    "\n",
    "feature_df.shape, label_df.shape"
   ]
  },
  {
   "cell_type": "code",
   "execution_count": 153,
   "metadata": {},
   "outputs": [
    {
     "data": {
      "text/plain": [
       "{'criterion': 'gini',\n",
       " 'max_depth': 25,\n",
       " 'min_samples_split': 100,\n",
       " 'n_estimators': 2}"
      ]
     },
     "execution_count": 153,
     "metadata": {},
     "output_type": "execute_result"
    }
   ],
   "source": [
    "params = {\n",
    "    'n_estimators': [2, 5, 10, 25, 50, 100],\n",
    "    'criterion': ['gini', 'entropy'],\n",
    "    'max_depth': [2, 5, 10, 25, 50, 100],\n",
    "    'min_samples_split': [2, 5, 10, 25, 50, 100]\n",
    "}\n",
    "\n",
    "X_train, X_test, y_train, y_test = train_test_split(\n",
    "    feature_df, label_df, test_size=0.3)\n",
    "X_train_search = preproc.fit_transform(X_train)\n",
    "\n",
    "searcher = GridSearchCV(RandomForestClassifier(), params, cv=3)\n",
    "searcher.fit(X_train_search, y_train)\n",
    "searcher.best_params_"
   ]
  },
  {
   "cell_type": "code",
   "execution_count": 161,
   "metadata": {},
   "outputs": [
    {
     "name": "stdout",
     "output_type": "stream",
     "text": [
      "0.9388108699616998\n",
      "[[10283     7]\n",
      " [  664    12]]\n",
      "              precision    recall  f1-score   support\n",
      "\n",
      "       False       0.94      1.00      0.97     10290\n",
      "        True       0.63      0.02      0.03       676\n",
      "\n",
      "    accuracy                           0.94     10966\n",
      "   macro avg       0.79      0.51      0.50     10966\n",
      "weighted avg       0.92      0.94      0.91     10966\n",
      "\n",
      "0.9378855562646246\n",
      "0.0034602076124567475\n",
      "[[4408    4]\n",
      " [ 288    1]]\n",
      "              precision    recall  f1-score   support\n",
      "\n",
      "       False       0.94      1.00      0.97      4412\n",
      "        True       0.20      0.00      0.01       289\n",
      "\n",
      "    accuracy                           0.94      4701\n",
      "   macro avg       0.57      0.50      0.49      4701\n",
      "weighted avg       0.89      0.94      0.91      4701\n",
      "\n"
     ]
    }
   ],
   "source": [
    "from sklearn.metrics import (\n",
    "    accuracy_score, classification_report, confusion_matrix, precision_score, recall_score,\n",
    "    precision_recall_curve\n",
    ")\n",
    "\n",
    "pl = Pipeline([\n",
    "    ('preproc', preproc),\n",
    "    ('clf', RandomForestClassifier(criterion='gini', max_depth=25,\n",
    "                                   min_samples_split=100, n_estimators=2))\n",
    "])\n",
    "\n",
    "pl.fit(X_train, y_train)\n",
    "\n",
    "y_pred_train = pl.predict(X_train)\n",
    "print(accuracy_score(y_train, y_pred_train))\n",
    "print(confusion_matrix(y_train, y_pred_train))\n",
    "print(classification_report(y_train, y_pred_train))\n",
    "\n",
    "y_pred_test = pl.predict(X_test)\n",
    "print(accuracy_score(y_test, y_pred_test))\n",
    "print(recall_score(y_test, y_pred_test))\n",
    "print(confusion_matrix(y_test, y_pred_test))\n",
    "print(classification_report(y_test, y_pred_test))"
   ]
  },
  {
   "cell_type": "code",
   "execution_count": 158,
   "metadata": {},
   "outputs": [],
   "source": [
    "precision_recall_curve"
   ]
  },
  {
   "cell_type": "code",
   "execution_count": null,
   "metadata": {},
   "outputs": [],
   "source": []
  },
  {
   "cell_type": "code",
   "execution_count": null,
   "metadata": {},
   "outputs": [],
   "source": []
  },
  {
   "cell_type": "markdown",
   "metadata": {},
   "source": [
    "### Final Model"
   ]
  },
  {
   "cell_type": "code",
   "execution_count": null,
   "metadata": {},
   "outputs": [],
   "source": [
    "# TODO"
   ]
  },
  {
   "cell_type": "code",
   "execution_count": null,
   "metadata": {},
   "outputs": [],
   "source": []
  },
  {
   "cell_type": "markdown",
   "metadata": {},
   "source": [
    "#### pre-processing functions"
   ]
  },
  {
   "cell_type": "code",
   "execution_count": null,
   "metadata": {},
   "outputs": [],
   "source": [
    "def month_preproc(df):\n",
    "    df['transaction_month'] = df['transaction_date'].str.split('-', expand=True).iloc[:, 1].astype(int)\n",
    "    return Binarizer(threshold=6).fit_transform(df[['transaction_month']])\n",
    "\n",
    "def amount_preproc(df):\n",
    "    df['amount_quant'] = (df['amount']\n",
    "                          .str.replace(r'[+\\-$,]', '', regex=True)\n",
    "                          .str.replace(r'\\s+', ' ', regex=True)\n",
    "                          .str.strip()\n",
    "                          .str.split()\n",
    "                          .apply(lambda x: sum(map(int, x)) // len(x)))\n",
    "    return df[['amount_quant']]\n",
    "\n",
    "\n",
    "class StdScalerByGroup(BaseEstimator, TransformerMixin):\n",
    "\n",
    "    def __init__(self):\n",
    "        pass\n",
    "    \n",
    "    def preprocess_(self, df):\n",
    "        for col in df.columns[1:]:\n",
    "            df[col] = (df[col]\n",
    "                       .str.replace(r'[+\\-$,]', '', regex=True)\n",
    "                       .str.replace(r'\\s+', ' ', regex=True)\n",
    "                       .str.strip()\n",
    "                       .str.split()\n",
    "                       .apply(lambda x: sum(map(int, x)) // len(x)))\n",
    "        return df\n",
    "\n",
    "    def fit(self, X, y=None):\n",
    "        \"\"\"\n",
    "        :Example:\n",
    "        >>> cols = {'g': ['A', 'A', 'B', 'B'], 'c1': [1, 2, 2, 2], 'c2': [3, 1, 2, 0]}\n",
    "        >>> X = pd.DataFrame(cols)\n",
    "        >>> std = StdScalerByGroup().fit(X)\n",
    "        >>> std.grps_ is not None\n",
    "        True\n",
    "        \"\"\"\n",
    "        # X might not be a pandas DataFrame (e.g. a np.array)\n",
    "        df = self.preprocess_(pd.DataFrame(X))\n",
    "\n",
    "        # Compute and store the means/standard-deviations for each column (e.g. 'c1' and 'c2'),\n",
    "        # for each group (e.g. 'A', 'B', 'C').\n",
    "        # (Our solution uses a dictionary)\n",
    "        df_agg = df.groupby(df.columns[0]).agg(['mean', 'std'])\n",
    "        self.grps_ = {(g, c): df_agg.loc[g, c]\n",
    "                      for g in df_agg.index for c in df_agg.columns}\n",
    "\n",
    "        return self\n",
    "\n",
    "    def transform(self, X, y=None):\n",
    "        \"\"\"\n",
    "        :Example:\n",
    "        >>> cols = {'g': ['A', 'A', 'B', 'B'], 'c1': [1, 2, 3, 4], 'c2': [1, 2, 3, 4]}\n",
    "        >>> X = pd.DataFrame(cols)\n",
    "        >>> std = StdScalerByGroup().fit(X)\n",
    "        >>> out = std.transform(X)\n",
    "        >>> out.shape == (4, 2)\n",
    "        True\n",
    "        >>> np.isclose(out.abs(), 0.707107, atol=0.001).all().all()\n",
    "        True\n",
    "        \"\"\"\n",
    "\n",
    "        try:\n",
    "            getattr(self, \"grps_\")\n",
    "        except AttributeError:\n",
    "            raise RuntimeError(\n",
    "                \"You must fit the transformer before tranforming the data!\")\n",
    "\n",
    "        # Hint: Define a helper function here!\n",
    "        def helper2(df):\n",
    "            grp_col = df.columns[0]\n",
    "            grps = df[grp_col].unique()\n",
    "            df_grps = df.groupby(grp_col)\n",
    "\n",
    "            df_out = []\n",
    "            for grp in grps:\n",
    "                df_grp = df_grps.get_group(grp).iloc[:, 1:]\n",
    "                for col in df_grp.columns:\n",
    "                    df_grp[col] = (\n",
    "                        df_grp[col] - self.grps_[(grp, (col, 'mean'))]) / self.grps_[(grp, (col, 'std'))]\n",
    "                df_out.append(df_grp)\n",
    "            return pd.concat(df_out).fillna(0)\n",
    "\n",
    "        df = pd.DataFrame(X)\n",
    "\n",
    "        return helper2(df)"
   ]
  },
  {
   "cell_type": "markdown",
   "metadata": {},
   "source": [
    "#### balance dataset"
   ]
  },
  {
   "cell_type": "code",
   "execution_count": null,
   "metadata": {
    "scrolled": true
   },
   "outputs": [],
   "source": [
    "from imblearn.pipeline import Pipeline as iPipeline\n",
    "\n",
    "preproc = ColumnTransformer(transformers=[\n",
    "    ('one-hot', OneHotEncoder(), ['disclosure_year', 'owner', 'party']),\n",
    "    ('month', FunctionTransformer(month_preproc, validate=False), ['transaction_date']),\n",
    "    ('amount', FunctionTransformer(amount_preproc), ['amount']),\n",
    "    ('std-grp', StdScalerByGroup(), ['party', 'amount'])\n",
    "])\n",
    "\n",
    "ipl = iPipeline([\n",
    "    ('preproc', preproc),\n",
    "    ('smt', SMOTE()),\n",
    "#     ('clf', RandomForestClassifier(criterion='gini', max_depth=25,\n",
    "#                                    min_samples_split=2, n_estimators=25))\n",
    "])\n",
    "\n",
    "feature_df = transactions.drop(columns=['cap_gains_over_200_usd'])\n",
    "label_df = transactions['cap_gains_over_200_usd']\n",
    "\n",
    "transformed_feature_df, transformed_label_df = ipl.fit_resample(feature_df, label_df)\n",
    "\n",
    "# print(f'new feature count: \\n{len(transformed_feature_df)}\\n')\n",
    "# print(f'old feature count: \\n{len(feature_df)}\\n')\n",
    "\n",
    "# print(f'new label count: \\n{transformed_label_df.value_counts()}\\n')\n",
    "# print(f'old label count: \\n{label_df.value_counts()}')"
   ]
  },
  {
   "cell_type": "code",
   "execution_count": null,
   "metadata": {},
   "outputs": [],
   "source": [
    "params = {\n",
    "    'n_estimators': [2, 5, 10, 25, 50, 100],\n",
    "    'criterion': ['gini', 'entropy'],\n",
    "    'max_depth': [2, 5, 10, 25, 50, 100],\n",
    "    'min_samples_split': [2, 5, 10, 25, 50, 100]\n",
    "}\n",
    "\n",
    "# X_train, X_test, y_train, y_test = train_test_split(\n",
    "#     transformed_feature_df, transformed_label_df, test_size=0.3)\n",
    "X_train, X_test, y_train, y_test = train_test_split(\n",
    "    transformed_feature_df, transformed_label_df, test_size=0.3)\n",
    "\n",
    "# searcher = GridSearchCV(RandomForestClassifier(), params, cv=3)\n",
    "# searcher.fit(X_train, y_train)\n",
    "# searcher.best_params_"
   ]
  },
  {
   "cell_type": "code",
   "execution_count": null,
   "metadata": {},
   "outputs": [],
   "source": [
    "from sklearn.metrics import (\n",
    "    accuracy_score, classification_report, confusion_matrix, precision_score,\n",
    "    precision_recall_curve\n",
    ")\n",
    "\n",
    "pl = Pipeline([\n",
    "    ('clf', RandomForestClassifier(criterion='gini', max_depth=25,\n",
    "                                   min_samples_split=2, n_estimators=25))\n",
    "])\n",
    "\n",
    "pl.fit(X_train, y_train)\n",
    "\n",
    "y_pred_train = pl.predict(X_train)\n",
    "print(accuracy_score(y_train, y_pred_train))\n",
    "print(confusion_matrix(y_train, y_pred_train))\n",
    "print(classification_report(y_train, y_pred_train))\n",
    "\n",
    "y_pred_test = pl.predict(X_test)\n",
    "print(accuracy_score(y_test, y_pred_test))\n",
    "print(confusion_matrix(y_test, y_pred_test))\n",
    "print(classification_report(y_test, y_pred_test))"
   ]
  },
  {
   "cell_type": "markdown",
   "metadata": {},
   "source": [
    "### Fairness Evaluation"
   ]
  },
  {
   "cell_type": "code",
   "execution_count": null,
   "metadata": {},
   "outputs": [],
   "source": [
    "# TODO"
   ]
  },
  {
   "cell_type": "code",
   "execution_count": 170,
   "metadata": {},
   "outputs": [
    {
     "data": {
      "image/png": "[encoded data removed]",
      "text/plain": [
       "<Figure size 640x480 with 1 Axes>"
      ]
     },
     "metadata": {
      "image/png": {
       "height": 413,
       "width": 613
      }
     },
     "output_type": "display_data"
    }
   ],
   "source": [
    "transactions['party'].value_counts(normalize=True).plot(kind='barh');"
   ]
  },
  {
   "cell_type": "code",
   "execution_count": 173,
   "metadata": {},
   "outputs": [
    {
     "data": {
      "image/png": "[encoded data removed]",
      "text/plain": [
       "<Figure size 640x480 with 1 Axes>"
      ]
     },
     "metadata": {
      "image/png": {
       "height": 413,
       "width": 605
      }
     },
     "output_type": "display_data"
    }
   ],
   "source": [
    "transactions['type'].value_counts(normalize=True).plot(kind='barh');"
   ]
  },
  {
   "cell_type": "code",
   "execution_count": 175,
   "metadata": {},
   "outputs": [
    {
     "data": {
      "image/png": "[encoded data removed]",
      "text/plain": [
       "<Figure size 640x480 with 1 Axes>"
      ]
     },
     "metadata": {
      "image/png": {
       "height": 413,
       "width": 613
      }
     },
     "output_type": "display_data"
    }
   ],
   "source": [
    "transactions['amount'].value_counts(normalize=True).plot(kind='barh');\n",
    "transactions['type'].value_counts(normalize=True).plot(kind='barh');\n",
    "transactions['party'].value_counts(normalize=True).plot(kind='barh');"
   ]
  },
  {
   "cell_type": "code",
   "execution_count": null,
   "metadata": {},
   "outputs": [],
   "source": []
  },
  {
   "cell_type": "code",
   "execution_count": null,
   "metadata": {},
   "outputs": [],
   "source": []
  }
 ],
 "metadata": {
  "kernelspec": {
   "display_name": "Python 3 (ipykernel)",
   "language": "python",
   "name": "python3"
  },
  "language_info": {
   "codemirror_mode": {
    "name": "ipython",
    "version": 3
   },
   "file_extension": ".py",
   "mimetype": "text/x-python",
   "name": "python",
   "nbconvert_exporter": "python",
   "pygments_lexer": "ipython3",
   "version": "3.11.0"
  },
  "vscode": {
   "interpreter": {
    "hash": "f77ecdb0f58e010fab59f8c059c6b2b0108dda110aab7a8d02ff1cea78918f71"
   }
  }
 },
 "nbformat": 4,
 "nbformat_minor": 2
}
